{
 "cells": [
  {
   "cell_type": "markdown",
   "metadata": {},
   "source": [
    "Make a function to convert any number into hours and minutes. (For example, 71 will become “1 hour, 11 minutes; 133 will become “2 hours, 13 minutes.)\n",
    "\n",
    "Most people get this question wrong. Make sure you handle singulars and plurals for both hours and minutes."
   ]
  },
  {
   "cell_type": "code",
   "execution_count": 74,
   "metadata": {},
   "outputs": [],
   "source": [
    "def num_to_time(number):\n",
    "    hours = number // 60\n",
    "    minutes = number % 60\n",
    "    result = (\"{0} hour{1}, \".format(hours, \"s\" if hours!=1 else \"\") if hours else \"\") +\\\n",
    "    (\"{0} minute{1}\".format(minutes, \"s\" if minutes!=1 else \"\") if minutes else \"\")\n",
    "    return result"
   ]
  },
  {
   "cell_type": "code",
   "execution_count": 75,
   "metadata": {},
   "outputs": [
    {
     "data": {
      "text/plain": [
       "'1 hour, 1 minute'"
      ]
     },
     "execution_count": 75,
     "metadata": {},
     "output_type": "execute_result"
    }
   ],
   "source": [
    "num_to_time(61)"
   ]
  },
  {
   "cell_type": "code",
   "execution_count": null,
   "metadata": {},
   "outputs": [],
   "source": []
  }
 ],
 "metadata": {
  "kernelspec": {
   "display_name": "Python 3",
   "language": "python",
   "name": "python3"
  },
  "language_info": {
   "codemirror_mode": {
    "name": "ipython",
    "version": 3
   },
   "file_extension": ".py",
   "mimetype": "text/x-python",
   "name": "python",
   "nbconvert_exporter": "python",
   "pygments_lexer": "ipython3",
   "version": "3.7.4"
  }
 },
 "nbformat": 4,
 "nbformat_minor": 2
}
