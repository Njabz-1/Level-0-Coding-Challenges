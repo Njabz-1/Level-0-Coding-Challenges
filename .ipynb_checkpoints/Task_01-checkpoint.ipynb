{
 "cells": [
  {
   "cell_type": "markdown",
   "metadata": {},
   "source": [
    "Convert this pseudocode into actual code. Make it run. Make sure you understand the results. This is a fundamental lesson:"
   ]
  },
  {
   "cell_type": "markdown",
   "metadata": {},
   "source": [
    "x = 0\n",
    "\n",
    "y = 1\n",
    "\n",
    "Print the value of x\n",
    "Print the value of y\n",
    "\n",
    "x = x + 3\n",
    "\n",
    "y = y + x\n",
    "\n",
    "Print the value of x\n",
    "Print the value of y"
   ]
  },
  {
   "cell_type": "code",
   "execution_count": 44,
   "metadata": {},
   "outputs": [
    {
     "name": "stdout",
     "output_type": "stream",
     "text": [
      "Value of x is: 0 Value of y is: 1\n",
      "Value of x is: 3 Value of y is: 4\n"
     ]
    }
   ],
   "source": [
    "x = 0\n",
    "y = 1 \n",
    "print(\"Value of x is:\",x,\"Value of y is:\",y)\n",
    "x = x + 3\n",
    "y = y + x\n",
    "print(\"Value of x is:\",x,\"Value of y is:\",y)"
   ]
  }
 ],
 "metadata": {
  "kernelspec": {
   "display_name": "Python 3",
   "language": "python",
   "name": "python3"
  },
  "language_info": {
   "codemirror_mode": {
    "name": "ipython",
    "version": 3
   },
   "file_extension": ".py",
   "mimetype": "text/x-python",
   "name": "python",
   "nbconvert_exporter": "python",
   "pygments_lexer": "ipython3",
   "version": "3.7.4"
  }
 },
 "nbformat": 4,
 "nbformat_minor": 2
}
