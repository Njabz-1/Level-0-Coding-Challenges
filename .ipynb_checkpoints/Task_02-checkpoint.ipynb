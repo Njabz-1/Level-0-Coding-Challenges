{
 "cells": [
  {
   "cell_type": "markdown",
   "metadata": {},
   "source": [
    "Convert this pseudocode into actual code. Make it run. Make sure you understand the results. This is a fundamental lesson. If you don’t understand the results then spend some time Googling BODMAS"
   ]
  },
  {
   "cell_type": "markdown",
   "metadata": {},
   "source": [
    "x = 1 + 1 * 2\n",
    "\n",
    "y = (1 + 1) * 2\n",
    "\n",
    "z = 1 + ( 1 * 2 )\n",
    "\n",
    "a = 1 + 1 * 2 / 2\n",
    "\n",
    "b = (1 + 1 * 2 ) /  2\n",
    "\n",
    "print all the things"
   ]
  },
  {
   "cell_type": "code",
   "execution_count": 5,
   "metadata": {},
   "outputs": [
    {
     "name": "stdout",
     "output_type": "stream",
     "text": [
      "3 4 3 2.0 1.5\n"
     ]
    }
   ],
   "source": [
    "x = 1 + 1*2\n",
    "y = (1+1) *2\n",
    "z = 1 + (1*2)\n",
    "a = 1+1 * 2/2\n",
    "b =  (1+1*2)/2\n",
    "print(x,y,z,a,b)"
   ]
  }
 ],
 "metadata": {
  "kernelspec": {
   "display_name": "Python 3",
   "language": "python",
   "name": "python3"
  },
  "language_info": {
   "codemirror_mode": {
    "name": "ipython",
    "version": 3
   },
   "file_extension": ".py",
   "mimetype": "text/x-python",
   "name": "python",
   "nbconvert_exporter": "python",
   "pygments_lexer": "ipython3",
   "version": "3.7.4"
  }
 },
 "nbformat": 4,
 "nbformat_minor": 2
}
